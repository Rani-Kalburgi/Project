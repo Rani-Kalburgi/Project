{
 "cells": [
  {
   "cell_type": "code",
   "execution_count": 11,
   "id": "57aaaeda",
   "metadata": {},
   "outputs": [
    {
     "name": "stdout",
     "output_type": "stream",
     "text": [
      "Enter number 1:10\n",
      "Enter your operator:+\n",
      "Enter number 2:20\n",
      "Answer is: 30\n"
     ]
    }
   ],
   "source": [
    "num1 = int(input(\"Enter number 1:\"))\n",
    "operator = input(\"Enter your operator:\")\n",
    "num2 = int(input(\"Enter number 2:\"))\n",
    "\n",
    "if operator == '+':\n",
    "    print(\"Answer is:\", num1+num2)\n",
    "elif operator == '-':\n",
    "    print(\"Answer is:\", num1-num2)\n",
    "elif operator == '*':\n",
    "    print(\"Answer is:\", num1*num2)\n",
    "elif operator == '/':\n",
    "    print(\"Answer is:\", num1/num2)\n",
    "else:\n",
    "    print(\"made a mistake.\")\n"
   ]
  },
  {
   "cell_type": "code",
   "execution_count": null,
   "id": "ee4e48a3",
   "metadata": {},
   "outputs": [],
   "source": []
  }
 ],
 "metadata": {
  "kernelspec": {
   "display_name": "Python 3 (ipykernel)",
   "language": "python",
   "name": "python3"
  },
  "language_info": {
   "codemirror_mode": {
    "name": "ipython",
    "version": 3
   },
   "file_extension": ".py",
   "mimetype": "text/x-python",
   "name": "python",
   "nbconvert_exporter": "python",
   "pygments_lexer": "ipython3",
   "version": "3.9.12"
  }
 },
 "nbformat": 4,
 "nbformat_minor": 5
}
