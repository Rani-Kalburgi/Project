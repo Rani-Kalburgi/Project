{
 "cells": [
  {
   "cell_type": "code",
   "execution_count": 3,
   "id": "e647ebff",
   "metadata": {},
   "outputs": [
    {
     "name": "stdout",
     "output_type": "stream",
     "text": [
      "Enter the city name: New Delhi\n",
      "-------------------------------------------------------------\n",
      "-------------------------------------------------------------\n",
      "Weather Stats for - NEW DELHI  || 28 Mar 2024 | 10:46:25 PM\n",
      "-------------------------------------------------------------\n",
      "-------------------------------------------------------------\n",
      "Current temperature is: 29.09 deg C\n",
      "Current weather desc  : haze\n",
      "Current Humidity      : 48 %\n",
      "Current wind speed    : 2.06 kmph\n",
      "====================================================\n"
     ]
    }
   ],
   "source": [
    "import requests\n",
    "# import os\n",
    "from datetime import datetime\n",
    "\n",
    "api_key = '06a6427bffe64f25b2b133fd5842f332'\n",
    "location = input(\"Enter the city name: \")\n",
    "#api key initialisation\n",
    "complete_api_link = \"https://api.openweathermap.org/data/2.5/weather?q=\" + location + \"&appid=\" + api_key\n",
    "api_link = requests.get(complete_api_link)\n",
    "api_data = api_link.json()\n",
    "\n",
    "# create variables to store and display data\n",
    "temp_city = ((api_data['main']['temp']) - 273.15)\n",
    "weather_desc = api_data['weather'][0]['description']\n",
    "hmdt = api_data['main']['humidity']\n",
    "wind_spd = api_data['wind']['speed']\n",
    "date_time = datetime.now().strftime(\"%d %b %Y | %I:%M:%S %p\")\n",
    "\n",
    "#the print block\n",
    "print(\"-------------------------------------------------------------\")\n",
    "print(\"-------------------------------------------------------------\")\n",
    "print(\"Weather Stats for - {}  || {}\".format(location.upper(), date_time))\n",
    "print(\"-------------------------------------------------------------\")\n",
    "print(\"-------------------------------------------------------------\")\n",
    "\n",
    "print(\"Current temperature is: {:.2f} deg C\".format(temp_city))\n",
    "print(\"Current weather desc  :\", weather_desc)\n",
    "print(\"Current Humidity      :\", hmdt, '%')\n",
    "print(\"Current wind speed    :\", wind_spd, 'kmph')\n",
    "\n",
    "print(\"====================================================\")\n",
    "\n",
    "# making a list so that i can print the info to a txt\n",
    "txtlist = [temp_city, weather_desc, hmdt, wind_spd, date_time]\n",
    "# using open() buit-in function to write to a text file\n",
    "with open(\"textfile.txt\", mode='w', encoding='utf-8') as f:\n",
    "    # encoding = utf-8 for linux and cp1252 for win\n",
    "    f.write(\"------------------------------------------------------------- \\n \")\n",
    "    f.write(\"Weather Stats for - {}  || {}\".format(location.upper(), date_time))\n",
    "    f.write(\"\\n ------------------------------------------------------------- \\n\")\n",
    "    f.write(\"Current temperature is: {:.2f} deg C\\n\".format(txtlist[0]))\n",
    "\n",
    "    f.write(\"{},{} \\n\".format(\"Current weather desc  :\", txtlist[1]))\n",
    "    f.write(\"{},{},{} \\n\".format(\"Current Humidity      :\", txtlist[2], \"%\"))\n",
    "    f.write(\"{},{},{} \\n\".format(\"Current wind speed    :\", txtlist[3], \"kmph\"))\n",
    "    f.write(\"====================================================\")"
   ]
  },
  {
   "cell_type": "code",
   "execution_count": null,
   "id": "edf7969a",
   "metadata": {},
   "outputs": [],
   "source": []
  }
 ],
 "metadata": {
  "kernelspec": {
   "display_name": "Python 3 (ipykernel)",
   "language": "python",
   "name": "python3"
  },
  "language_info": {
   "codemirror_mode": {
    "name": "ipython",
    "version": 3
   },
   "file_extension": ".py",
   "mimetype": "text/x-python",
   "name": "python",
   "nbconvert_exporter": "python",
   "pygments_lexer": "ipython3",
   "version": "3.9.12"
  }
 },
 "nbformat": 4,
 "nbformat_minor": 5
}
