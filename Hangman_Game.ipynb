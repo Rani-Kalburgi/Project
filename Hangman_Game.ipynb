{
 "cells": [
  {
   "cell_type": "code",
   "execution_count": 1,
   "id": "73e14878",
   "metadata": {},
   "outputs": [],
   "source": [
    "import random\n",
    "from collections import Counter"
   ]
  },
  {
   "cell_type": "code",
   "execution_count": 7,
   "id": "3e750877",
   "metadata": {},
   "outputs": [],
   "source": [
    "someWords = '''apple banana mango strawberry orange grape pineapple apricot lemon coconut watermelon cherry papaya\n",
    "berry peach lychee muskmelon'''\n",
    "someWords = someWords.split(' ')\n",
    "word = random.choice(someWords)"
   ]
  },
  {
   "cell_type": "code",
   "execution_count": 11,
   "id": "3a2237ff",
   "metadata": {},
   "outputs": [
    {
     "name": "stdout",
     "output_type": "stream",
     "text": [
      "Guess the word!. HINT: Name of Fruit.\n",
      "_ _ _ _ _ _ _ _ _ \n",
      "\n",
      "Enter a letter to guess: j\n",
      "_ _ _ _ _ _ _ _ _ \n",
      "Enter a letter to guess: i\n",
      "_ _ _ _ _ _ _ _ _ \n",
      "Enter a letter to guess: a\n",
      "_ _ _ _ _ _ _ _ _ \n",
      "Enter a letter to guess: l\n",
      "_ _ _ _ _ _ l _ _ \n",
      "Enter a letter to guess: o\n",
      "_ _ _ _ _ _ l o _ \n",
      "Enter a letter to guess: v\n",
      "_ _ _ _ _ _ l o _ \n",
      "Enter a letter to guess: s\n",
      "_ _ s _ _ _ l o _ \n",
      "Enter a letter to guess: l\n",
      "You have already guessed that letter\n",
      "\n",
      "Enter a letter to guess: p\n",
      "_ _ s _ _ _ l o _ \n",
      "Enter a letter to guess: s\n",
      "You have already guessed that letter\n",
      "\n",
      "Enter a letter to guess: k\n",
      "_ _ s k _ _ l o _ \n",
      "You lost! Try again..\n",
      "The word was muskmelon\n"
     ]
    }
   ],
   "source": [
    "if __name__ == '__main__':\n",
    "    print(\"Guess the word!. HINT: Name of Fruit.\")\n",
    "    \n",
    "    for i in word:\n",
    "        print('_', end=' ')\n",
    "    print()\n",
    "    \n",
    "    playing = True\n",
    "    letterGuessed = ''\n",
    "    chances = len(word) + 2\n",
    "    correct = 0\n",
    "    flag = 0\n",
    "    \n",
    "    try:\n",
    "        while(chances!=0) and flag == 0:\n",
    "            print()\n",
    "            chances -= 1\n",
    "            \n",
    "            try:\n",
    "                guess = str(input(\"Enter a letter to guess: \"))\n",
    "            except:\n",
    "                print(\"enter only a letter!\")\n",
    "                continue\n",
    "                \n",
    "            if not guess.isalpha():\n",
    "                print(\"Enter only a letter\")\n",
    "                continue     \n",
    "            elif len(guess) > 1:\n",
    "                print('Enter only a SINGLE letter')\n",
    "                continue\n",
    "            elif guess in letterGuessed:\n",
    "                print('You have already guessed that letter')\n",
    "                continue\n",
    "            \n",
    "            if guess in word:\n",
    "                k = word.count(guess)\n",
    "                for _ in range (k):\n",
    "                    letterGuessed += guess\n",
    "            \n",
    "            for char in word:\n",
    "                if char in letterGuessed and (Counter(letterGuessed) != Counter(word)):\n",
    "                    print(char, end = ' ')\n",
    "                    correct += 1\n",
    "                elif (Counter(letterGuessed) == Counter(word)): # Once the correct word is guessed fully,\n",
    "                    print(\"The word is: \", end=' ')\n",
    "                    print(word)\n",
    "                    flag = 1\n",
    "                    print('Congratulations, You won!')\n",
    "                    break # To break out of the for loop\n",
    "                    break # To break out of the while loop\n",
    "                else:\n",
    "                    print('_', end = ' ')\n",
    "                    \n",
    "        if chances <= 0 and (Counter(letterGuessed) != Counter(word)):\n",
    "            print()\n",
    "            print('You lost! Try again..')\n",
    "            print('The word was {}'.format(word))\n",
    "\n",
    "    except KeyboardInterrupt:\n",
    "        print()\n",
    "        print('Bye! Try again.')\n",
    "        exit()"
   ]
  },
  {
   "cell_type": "markdown",
   "id": "666a3257",
   "metadata": {},
   "source": []
  }
 ],
 "metadata": {
  "kernelspec": {
   "display_name": "Python 3 (ipykernel)",
   "language": "python",
   "name": "python3"
  },
  "language_info": {
   "codemirror_mode": {
    "name": "ipython",
    "version": 3
   },
   "file_extension": ".py",
   "mimetype": "text/x-python",
   "name": "python",
   "nbconvert_exporter": "python",
   "pygments_lexer": "ipython3",
   "version": "3.9.12"
  }
 },
 "nbformat": 4,
 "nbformat_minor": 5
}
