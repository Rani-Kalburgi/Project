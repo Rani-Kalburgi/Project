{
 "cells": [
  {
   "cell_type": "code",
   "execution_count": null,
   "id": "b5036f6f",
   "metadata": {},
   "outputs": [
    {
     "name": "stdout",
     "output_type": "stream",
     "text": [
      "\n",
      "1. Add Expense\n",
      "2. Show Expenses\n",
      "3. Quit\n",
      "Enter your choice: 1\n",
      "Enter date (YYYY-MM-DD): 2024-01-15\n",
      "Enter category: Shopping \n",
      "Enter description: Books,Clothes and Groceries\n",
      "Enter amount: 5000\n",
      "Expense added successfully!\n",
      "\n",
      "1. Add Expense\n",
      "2. Show Expenses\n",
      "3. Quit\n",
      "Enter your choice: 1\n",
      "Enter date (YYYY-MM-DD): 2024-02-18\n",
      "Enter category: Birthday Bash\n",
      "Enter description: Purchased Gift\n",
      "Enter amount: 2000\n",
      "Expense added successfully!\n",
      "\n",
      "1. Add Expense\n",
      "2. Show Expenses\n",
      "3. Quit\n",
      "Enter your choice: 1\n",
      "Enter date (YYYY-MM-DD): 2024-03-22\n",
      "Enter category: Movie\n"
     ]
    }
   ],
   "source": [
    "expenses = []\n",
    "\n",
    "def add_expense(date, category, description, amount):\n",
    "    expenses.append({\n",
    "        'Date': date,\n",
    "        'Category': category,\n",
    "        'Description': description,\n",
    "        'Amount': amount\n",
    "    })\n",
    "\n",
    "def show_expenses():\n",
    "    total = 0\n",
    "    print(\"\\nExpense Tracker\\n\")\n",
    "    print(\"{:<15} {:<15} {:<25} {:<10}\".format('Date', 'Category', 'Description', 'Amount'))\n",
    "    print(\"-\" * 65)\n",
    "    for expense in expenses:\n",
    "        print(\"{:<15} {:<15} {:<25} {:<10}\".format(\n",
    "            expense['Date'], expense['Category'], expense['Description'], expense['Amount']))\n",
    "        total += expense['Amount']\n",
    "    print(\"-\" * 65)\n",
    "    print(\"Total: ${:.2f}\".format(total))\n",
    "\n",
    "def main():\n",
    "    while True:\n",
    "        print(\"\\n1. Add Expense\")\n",
    "        print(\"2. Show Expenses\")\n",
    "        print(\"3. Quit\")\n",
    "        choice = input(\"Enter your choice: \")\n",
    "        if choice == '1':\n",
    "            date = input(\"Enter date (YYYY-MM-DD): \")\n",
    "            category = input(\"Enter category: \")\n",
    "            description = input(\"Enter description: \")\n",
    "            amount = float(input(\"Enter amount: \"))\n",
    "            add_expense(date, category, description, amount)\n",
    "            print(\"Expense added successfully!\")\n",
    "        elif choice == '2':\n",
    "            show_expenses()\n",
    "        elif choice == '3':\n",
    "            print(\"Exiting...\")\n",
    "            break\n",
    "        else:\n",
    "            print(\"Invalid choice. Please try again.\")\n",
    "\n",
    "if __name__ == \"__main__\":\n",
    "    main()"
   ]
  },
  {
   "cell_type": "code",
   "execution_count": null,
   "id": "8d88fba4",
   "metadata": {},
   "outputs": [],
   "source": []
  }
 ],
 "metadata": {
  "kernelspec": {
   "display_name": "Python 3 (ipykernel)",
   "language": "python",
   "name": "python3"
  },
  "language_info": {
   "codemirror_mode": {
    "name": "ipython",
    "version": 3
   },
   "file_extension": ".py",
   "mimetype": "text/x-python",
   "name": "python",
   "nbconvert_exporter": "python",
   "pygments_lexer": "ipython3",
   "version": "3.11.5"
  }
 },
 "nbformat": 4,
 "nbformat_minor": 5
}
